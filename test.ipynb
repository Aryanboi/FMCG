{
 "cells": [
  {
   "cell_type": "code",
   "execution_count": 2,
   "metadata": {},
   "outputs": [],
   "source": [
    "import pandas as pd\n",
    "import plotly.express as px\n",
    "import plotly.graph_objects as go"
   ]
  },
  {
   "cell_type": "code",
   "execution_count": 3,
   "metadata": {},
   "outputs": [],
   "source": [
    "df=pd.read_csv('Morocco Import.csv')"
   ]
  },
  {
   "cell_type": "code",
   "execution_count": 4,
   "metadata": {},
   "outputs": [],
   "source": [
    "df.rename(columns={'Trade Value Growth':'Trade Value Growth(%)','Trade Value Growth 1':'TradeValue Growth(%)Pre 1','Trade Value Growth 3':'TradeValue Growth(%)Pre 3','Trade Value Growth 5':'TradeValue Growth(%)Pre 5'},inplace=True)"
   ]
  },
  {
   "cell_type": "code",
   "execution_count": 5,
   "metadata": {},
   "outputs": [
    {
     "data": {
      "text/html": [
       "<div>\n",
       "<style scoped>\n",
       "    .dataframe tbody tr th:only-of-type {\n",
       "        vertical-align: middle;\n",
       "    }\n",
       "\n",
       "    .dataframe tbody tr th {\n",
       "        vertical-align: top;\n",
       "    }\n",
       "\n",
       "    .dataframe thead th {\n",
       "        text-align: right;\n",
       "    }\n",
       "</style>\n",
       "<table border=\"1\" class=\"dataframe\">\n",
       "  <thead>\n",
       "    <tr style=\"text-align: right;\">\n",
       "      <th></th>\n",
       "      <th>Section ID</th>\n",
       "      <th>Section</th>\n",
       "      <th>HS2 ID</th>\n",
       "      <th>HS2</th>\n",
       "      <th>HS4 ID</th>\n",
       "      <th>HS4</th>\n",
       "      <th>Year</th>\n",
       "      <th>Trade Value</th>\n",
       "      <th>Trade Value Growth(%)</th>\n",
       "      <th>Trade Value Growth Value</th>\n",
       "      <th>Trade Value Previous 1</th>\n",
       "      <th>Trade Value Previous 3</th>\n",
       "      <th>Trade Value Previous 5</th>\n",
       "      <th>TradeValue Growth(%)Pre 1</th>\n",
       "      <th>Trade Value Growth Value 1</th>\n",
       "      <th>TradeValue Growth(%)Pre 3</th>\n",
       "      <th>Trade Value Growth Value 3</th>\n",
       "      <th>TradeValue Growth(%)Pre 5</th>\n",
       "      <th>Trade Value Growth Value 5</th>\n",
       "    </tr>\n",
       "  </thead>\n",
       "  <tbody>\n",
       "    <tr>\n",
       "      <th>0</th>\n",
       "      <td>1</td>\n",
       "      <td>Animal Products</td>\n",
       "      <td>101</td>\n",
       "      <td>Live animals</td>\n",
       "      <td>10101</td>\n",
       "      <td>Horses</td>\n",
       "      <td>2019</td>\n",
       "      <td>4429024</td>\n",
       "      <td>-0.532634</td>\n",
       "      <td>-5047542</td>\n",
       "      <td>9476566</td>\n",
       "      <td>7796259</td>\n",
       "      <td>7647026</td>\n",
       "      <td>-53.263408</td>\n",
       "      <td>-5047542</td>\n",
       "      <td>-43.190394</td>\n",
       "      <td>-3367235</td>\n",
       "      <td>-42.081745</td>\n",
       "      <td>-3218002</td>\n",
       "    </tr>\n",
       "    <tr>\n",
       "      <th>1</th>\n",
       "      <td>1</td>\n",
       "      <td>Animal Products</td>\n",
       "      <td>101</td>\n",
       "      <td>Live animals</td>\n",
       "      <td>10102</td>\n",
       "      <td>Bovine</td>\n",
       "      <td>2019</td>\n",
       "      <td>58239050</td>\n",
       "      <td>-0.005652</td>\n",
       "      <td>-331024</td>\n",
       "      <td>58570074</td>\n",
       "      <td>31262765</td>\n",
       "      <td>46595100</td>\n",
       "      <td>-0.565176</td>\n",
       "      <td>-331024</td>\n",
       "      <td>86.288865</td>\n",
       "      <td>26976285</td>\n",
       "      <td>24.989645</td>\n",
       "      <td>11643950</td>\n",
       "    </tr>\n",
       "    <tr>\n",
       "      <th>2</th>\n",
       "      <td>1</td>\n",
       "      <td>Animal Products</td>\n",
       "      <td>101</td>\n",
       "      <td>Live animals</td>\n",
       "      <td>10105</td>\n",
       "      <td>Poultry</td>\n",
       "      <td>2019</td>\n",
       "      <td>26340339</td>\n",
       "      <td>0.153589</td>\n",
       "      <td>3506951</td>\n",
       "      <td>22833388</td>\n",
       "      <td>24185107</td>\n",
       "      <td>25015049</td>\n",
       "      <td>15.358873</td>\n",
       "      <td>3506951</td>\n",
       "      <td>8.911402</td>\n",
       "      <td>2155232</td>\n",
       "      <td>5.297971</td>\n",
       "      <td>1325290</td>\n",
       "    </tr>\n",
       "    <tr>\n",
       "      <th>3</th>\n",
       "      <td>1</td>\n",
       "      <td>Animal Products</td>\n",
       "      <td>101</td>\n",
       "      <td>Live animals</td>\n",
       "      <td>10106</td>\n",
       "      <td>Other Animals</td>\n",
       "      <td>2019</td>\n",
       "      <td>6923494</td>\n",
       "      <td>-0.094794</td>\n",
       "      <td>-725031</td>\n",
       "      <td>7648525</td>\n",
       "      <td>4376551</td>\n",
       "      <td>5193338</td>\n",
       "      <td>-9.479357</td>\n",
       "      <td>-725031</td>\n",
       "      <td>58.195209</td>\n",
       "      <td>2546943</td>\n",
       "      <td>33.314912</td>\n",
       "      <td>1730156</td>\n",
       "    </tr>\n",
       "    <tr>\n",
       "      <th>4</th>\n",
       "      <td>1</td>\n",
       "      <td>Animal Products</td>\n",
       "      <td>102</td>\n",
       "      <td>Meat and edible meat offal</td>\n",
       "      <td>10201</td>\n",
       "      <td>Bovine Meat</td>\n",
       "      <td>2019</td>\n",
       "      <td>53431</td>\n",
       "      <td>0.438754</td>\n",
       "      <td>16294</td>\n",
       "      <td>37137</td>\n",
       "      <td>84983</td>\n",
       "      <td>4985</td>\n",
       "      <td>43.875380</td>\n",
       "      <td>16294</td>\n",
       "      <td>-37.127425</td>\n",
       "      <td>-31552</td>\n",
       "      <td>971.835506</td>\n",
       "      <td>48446</td>\n",
       "    </tr>\n",
       "    <tr>\n",
       "      <th>...</th>\n",
       "      <td>...</td>\n",
       "      <td>...</td>\n",
       "      <td>...</td>\n",
       "      <td>...</td>\n",
       "      <td>...</td>\n",
       "      <td>...</td>\n",
       "      <td>...</td>\n",
       "      <td>...</td>\n",
       "      <td>...</td>\n",
       "      <td>...</td>\n",
       "      <td>...</td>\n",
       "      <td>...</td>\n",
       "      <td>...</td>\n",
       "      <td>...</td>\n",
       "      <td>...</td>\n",
       "      <td>...</td>\n",
       "      <td>...</td>\n",
       "      <td>...</td>\n",
       "      <td>...</td>\n",
       "    </tr>\n",
       "    <tr>\n",
       "      <th>180</th>\n",
       "      <td>4</td>\n",
       "      <td>Foodstuffs</td>\n",
       "      <td>423</td>\n",
       "      <td>Food industries, residues and wastes thereof; ...</td>\n",
       "      <td>42308</td>\n",
       "      <td>Other Vegetable Residues and Waste</td>\n",
       "      <td>2019</td>\n",
       "      <td>24589671</td>\n",
       "      <td>0.884735</td>\n",
       "      <td>11542921</td>\n",
       "      <td>13046750</td>\n",
       "      <td>24272043</td>\n",
       "      <td>25380118</td>\n",
       "      <td>88.473536</td>\n",
       "      <td>11542921</td>\n",
       "      <td>1.308617</td>\n",
       "      <td>317628</td>\n",
       "      <td>-3.114434</td>\n",
       "      <td>-790447</td>\n",
       "    </tr>\n",
       "    <tr>\n",
       "      <th>181</th>\n",
       "      <td>4</td>\n",
       "      <td>Foodstuffs</td>\n",
       "      <td>423</td>\n",
       "      <td>Food industries, residues and wastes thereof; ...</td>\n",
       "      <td>42309</td>\n",
       "      <td>Animal Food</td>\n",
       "      <td>2019</td>\n",
       "      <td>45418229</td>\n",
       "      <td>0.023959</td>\n",
       "      <td>1062715</td>\n",
       "      <td>44355514</td>\n",
       "      <td>51229999</td>\n",
       "      <td>29650111</td>\n",
       "      <td>2.395903</td>\n",
       "      <td>1062715</td>\n",
       "      <td>-11.344466</td>\n",
       "      <td>-5811770</td>\n",
       "      <td>53.180637</td>\n",
       "      <td>15768118</td>\n",
       "    </tr>\n",
       "    <tr>\n",
       "      <th>182</th>\n",
       "      <td>4</td>\n",
       "      <td>Foodstuffs</td>\n",
       "      <td>424</td>\n",
       "      <td>Tobacco and manufactured tobacco substitutes</td>\n",
       "      <td>42401</td>\n",
       "      <td>Raw Tobacco</td>\n",
       "      <td>2019</td>\n",
       "      <td>27534755</td>\n",
       "      <td>0.043305</td>\n",
       "      <td>1142901</td>\n",
       "      <td>26391854</td>\n",
       "      <td>17368395</td>\n",
       "      <td>53528550</td>\n",
       "      <td>4.330507</td>\n",
       "      <td>1142901</td>\n",
       "      <td>58.533676</td>\n",
       "      <td>10166360</td>\n",
       "      <td>-48.560619</td>\n",
       "      <td>-25993795</td>\n",
       "    </tr>\n",
       "    <tr>\n",
       "      <th>183</th>\n",
       "      <td>4</td>\n",
       "      <td>Foodstuffs</td>\n",
       "      <td>424</td>\n",
       "      <td>Tobacco and manufactured tobacco substitutes</td>\n",
       "      <td>42402</td>\n",
       "      <td>Rolled Tobacco</td>\n",
       "      <td>2019</td>\n",
       "      <td>146043053</td>\n",
       "      <td>-0.124933</td>\n",
       "      <td>-20850503</td>\n",
       "      <td>166893556</td>\n",
       "      <td>124420288</td>\n",
       "      <td>84081687</td>\n",
       "      <td>-12.493294</td>\n",
       "      <td>-20850503</td>\n",
       "      <td>17.378810</td>\n",
       "      <td>21622765</td>\n",
       "      <td>73.691868</td>\n",
       "      <td>61961366</td>\n",
       "    </tr>\n",
       "    <tr>\n",
       "      <th>184</th>\n",
       "      <td>4</td>\n",
       "      <td>Foodstuffs</td>\n",
       "      <td>424</td>\n",
       "      <td>Tobacco and manufactured tobacco substitutes</td>\n",
       "      <td>42403</td>\n",
       "      <td>Processed Tobacco</td>\n",
       "      <td>2019</td>\n",
       "      <td>7017928</td>\n",
       "      <td>-0.117094</td>\n",
       "      <td>-930738</td>\n",
       "      <td>7948666</td>\n",
       "      <td>9668689</td>\n",
       "      <td>26322986</td>\n",
       "      <td>-11.709361</td>\n",
       "      <td>-930738</td>\n",
       "      <td>-27.415930</td>\n",
       "      <td>-2650761</td>\n",
       "      <td>-73.339164</td>\n",
       "      <td>-19305058</td>\n",
       "    </tr>\n",
       "  </tbody>\n",
       "</table>\n",
       "<p>185 rows × 19 columns</p>\n",
       "</div>"
      ],
      "text/plain": [
       "     Section ID          Section  HS2 ID  \\\n",
       "0             1  Animal Products     101   \n",
       "1             1  Animal Products     101   \n",
       "2             1  Animal Products     101   \n",
       "3             1  Animal Products     101   \n",
       "4             1  Animal Products     102   \n",
       "..          ...              ...     ...   \n",
       "180           4       Foodstuffs     423   \n",
       "181           4       Foodstuffs     423   \n",
       "182           4       Foodstuffs     424   \n",
       "183           4       Foodstuffs     424   \n",
       "184           4       Foodstuffs     424   \n",
       "\n",
       "                                                   HS2  HS4 ID  \\\n",
       "0                                         Live animals   10101   \n",
       "1                                         Live animals   10102   \n",
       "2                                         Live animals   10105   \n",
       "3                                         Live animals   10106   \n",
       "4                           Meat and edible meat offal   10201   \n",
       "..                                                 ...     ...   \n",
       "180  Food industries, residues and wastes thereof; ...   42308   \n",
       "181  Food industries, residues and wastes thereof; ...   42309   \n",
       "182       Tobacco and manufactured tobacco substitutes   42401   \n",
       "183       Tobacco and manufactured tobacco substitutes   42402   \n",
       "184       Tobacco and manufactured tobacco substitutes   42403   \n",
       "\n",
       "                                    HS4  Year  Trade Value  \\\n",
       "0                                Horses  2019      4429024   \n",
       "1                                Bovine  2019     58239050   \n",
       "2                               Poultry  2019     26340339   \n",
       "3                         Other Animals  2019      6923494   \n",
       "4                           Bovine Meat  2019        53431   \n",
       "..                                  ...   ...          ...   \n",
       "180  Other Vegetable Residues and Waste  2019     24589671   \n",
       "181                         Animal Food  2019     45418229   \n",
       "182                         Raw Tobacco  2019     27534755   \n",
       "183                      Rolled Tobacco  2019    146043053   \n",
       "184                   Processed Tobacco  2019      7017928   \n",
       "\n",
       "     Trade Value Growth(%)  Trade Value Growth Value  Trade Value Previous 1  \\\n",
       "0                -0.532634                  -5047542                 9476566   \n",
       "1                -0.005652                   -331024                58570074   \n",
       "2                 0.153589                   3506951                22833388   \n",
       "3                -0.094794                   -725031                 7648525   \n",
       "4                 0.438754                     16294                   37137   \n",
       "..                     ...                       ...                     ...   \n",
       "180               0.884735                  11542921                13046750   \n",
       "181               0.023959                   1062715                44355514   \n",
       "182               0.043305                   1142901                26391854   \n",
       "183              -0.124933                 -20850503               166893556   \n",
       "184              -0.117094                   -930738                 7948666   \n",
       "\n",
       "     Trade Value Previous 3  Trade Value Previous 5  \\\n",
       "0                   7796259                 7647026   \n",
       "1                  31262765                46595100   \n",
       "2                  24185107                25015049   \n",
       "3                   4376551                 5193338   \n",
       "4                     84983                    4985   \n",
       "..                      ...                     ...   \n",
       "180                24272043                25380118   \n",
       "181                51229999                29650111   \n",
       "182                17368395                53528550   \n",
       "183               124420288                84081687   \n",
       "184                 9668689                26322986   \n",
       "\n",
       "     TradeValue Growth(%)Pre 1  Trade Value Growth Value 1  \\\n",
       "0                   -53.263408                    -5047542   \n",
       "1                    -0.565176                     -331024   \n",
       "2                    15.358873                     3506951   \n",
       "3                    -9.479357                     -725031   \n",
       "4                    43.875380                       16294   \n",
       "..                         ...                         ...   \n",
       "180                  88.473536                    11542921   \n",
       "181                   2.395903                     1062715   \n",
       "182                   4.330507                     1142901   \n",
       "183                 -12.493294                   -20850503   \n",
       "184                 -11.709361                     -930738   \n",
       "\n",
       "     TradeValue Growth(%)Pre 3  Trade Value Growth Value 3  \\\n",
       "0                   -43.190394                    -3367235   \n",
       "1                    86.288865                    26976285   \n",
       "2                     8.911402                     2155232   \n",
       "3                    58.195209                     2546943   \n",
       "4                   -37.127425                      -31552   \n",
       "..                         ...                         ...   \n",
       "180                   1.308617                      317628   \n",
       "181                 -11.344466                    -5811770   \n",
       "182                  58.533676                    10166360   \n",
       "183                  17.378810                    21622765   \n",
       "184                 -27.415930                    -2650761   \n",
       "\n",
       "     TradeValue Growth(%)Pre 5  Trade Value Growth Value 5  \n",
       "0                   -42.081745                    -3218002  \n",
       "1                    24.989645                    11643950  \n",
       "2                     5.297971                     1325290  \n",
       "3                    33.314912                     1730156  \n",
       "4                   971.835506                       48446  \n",
       "..                         ...                         ...  \n",
       "180                  -3.114434                     -790447  \n",
       "181                  53.180637                    15768118  \n",
       "182                 -48.560619                   -25993795  \n",
       "183                  73.691868                    61961366  \n",
       "184                 -73.339164                   -19305058  \n",
       "\n",
       "[185 rows x 19 columns]"
      ]
     },
     "execution_count": 5,
     "metadata": {},
     "output_type": "execute_result"
    }
   ],
   "source": [
    "df"
   ]
  },
  {
   "cell_type": "code",
   "execution_count": 28,
   "metadata": {},
   "outputs": [
    {
     "data": {
      "application/vnd.plotly.v1+json": {
       "config": {
        "plotlyServerURL": "https://plot.ly"
       },
       "data": [
        {
         "alignmentgroup": "True",
         "bingroup": "x",
         "histfunc": "sum",
         "hovertemplate": "variable=Trade Value Growth(%)<br>HS2=%{x}<br>sum of value=%{y}<extra></extra>",
         "legendgroup": "Trade Value Growth(%)",
         "marker": {
          "color": "#636efa",
          "pattern": {
           "shape": ""
          }
         },
         "name": "Trade Value Growth(%)",
         "offsetgroup": "Trade Value Growth(%)",
         "orientation": "v",
         "showlegend": true,
         "type": "histogram",
         "x": [
          "Live animals",
          "Live animals",
          "Live animals",
          "Live animals",
          "Meat and edible meat offal",
          "Meat and edible meat offal",
          "Meat and edible meat offal",
          "Meat and edible meat offal",
          "Meat and edible meat offal",
          "Meat and edible meat offal",
          "Meat and edible meat offal",
          "Meat and edible meat offal",
          "Meat and edible meat offal",
          "Fish and crustaceans, molluscs and other aquatic invertebrates",
          "Fish and crustaceans, molluscs and other aquatic invertebrates",
          "Fish and crustaceans, molluscs and other aquatic invertebrates",
          "Fish and crustaceans, molluscs and other aquatic invertebrates",
          "Fish and crustaceans, molluscs and other aquatic invertebrates",
          "Fish and crustaceans, molluscs and other aquatic invertebrates",
          "Fish and crustaceans, molluscs and other aquatic invertebrates",
          "Dairy products and other edible products of animal origin",
          "Dairy products and other edible products of animal origin",
          "Dairy products and other edible products of animal origin",
          "Dairy products and other edible products of animal origin",
          "Dairy products and other edible products of animal origin",
          "Dairy products and other edible products of animal origin",
          "Dairy products and other edible products of animal origin",
          "Dairy products and other edible products of animal origin",
          "Dairy products and other edible products of animal origin",
          "Dairy products and other edible products of animal origin",
          "Animal originated products; not elsewhere specified or included",
          "Animal originated products; not elsewhere specified or included",
          "Animal originated products; not elsewhere specified or included",
          "Animal originated products; not elsewhere specified or included",
          "Animal originated products; not elsewhere specified or included"
         ],
         "xaxis": "x",
         "y": [
          -0.532634079,
          -0.00565176,
          0.153588727,
          -0.094793571,
          0.438753803,
          0.063306867,
          -0.733360432,
          -0.179692386,
          2.79037244,
          0.705062642,
          0.324486246,
          0.363033449,
          1.175800096,
          0.108445483,
          -0.079931012,
          -0.125825398,
          0.250430361,
          -0.480589388,
          0.236064332,
          0.25363303,
          -0.053183371,
          0.185467305,
          0.475589581,
          0.047804795,
          -0.224278805,
          -0.049844115,
          -0.454029777,
          -0.411815606,
          -0.228751519,
          8.564259486,
          0.506422547,
          -0.044428339,
          -0.496568113,
          -0.735905277,
          1.405676966
         ],
         "yaxis": "y"
        },
        {
         "alignmentgroup": "True",
         "bingroup": "x",
         "histfunc": "sum",
         "hovertemplate": "variable=TradeValue Growth(%)Pre 1<br>HS2=%{x}<br>sum of value=%{y}<extra></extra>",
         "legendgroup": "TradeValue Growth(%)Pre 1",
         "marker": {
          "color": "#EF553B",
          "pattern": {
           "shape": ""
          }
         },
         "name": "TradeValue Growth(%)Pre 1",
         "offsetgroup": "TradeValue Growth(%)Pre 1",
         "orientation": "v",
         "showlegend": true,
         "type": "histogram",
         "x": [
          "Live animals",
          "Live animals",
          "Live animals",
          "Live animals",
          "Meat and edible meat offal",
          "Meat and edible meat offal",
          "Meat and edible meat offal",
          "Meat and edible meat offal",
          "Meat and edible meat offal",
          "Meat and edible meat offal",
          "Meat and edible meat offal",
          "Meat and edible meat offal",
          "Meat and edible meat offal",
          "Fish and crustaceans, molluscs and other aquatic invertebrates",
          "Fish and crustaceans, molluscs and other aquatic invertebrates",
          "Fish and crustaceans, molluscs and other aquatic invertebrates",
          "Fish and crustaceans, molluscs and other aquatic invertebrates",
          "Fish and crustaceans, molluscs and other aquatic invertebrates",
          "Fish and crustaceans, molluscs and other aquatic invertebrates",
          "Fish and crustaceans, molluscs and other aquatic invertebrates",
          "Dairy products and other edible products of animal origin",
          "Dairy products and other edible products of animal origin",
          "Dairy products and other edible products of animal origin",
          "Dairy products and other edible products of animal origin",
          "Dairy products and other edible products of animal origin",
          "Dairy products and other edible products of animal origin",
          "Dairy products and other edible products of animal origin",
          "Dairy products and other edible products of animal origin",
          "Dairy products and other edible products of animal origin",
          "Dairy products and other edible products of animal origin",
          "Animal originated products; not elsewhere specified or included",
          "Animal originated products; not elsewhere specified or included",
          "Animal originated products; not elsewhere specified or included",
          "Animal originated products; not elsewhere specified or included",
          "Animal originated products; not elsewhere specified or included"
         ],
         "xaxis": "x",
         "y": [
          -53.26340786,
          -0.565175998,
          15.35887272,
          -9.479357131,
          43.87538035,
          6.330686732,
          -73.33604323,
          -17.96923864,
          279.037244,
          70.50626419,
          32.44862461,
          36.30334487,
          117.5800096,
          10.84454826,
          -7.993101213,
          -12.58253985,
          25.04303607,
          -48.05893885,
          23.60643323,
          25.36330302,
          -5.318337112,
          18.5467305,
          47.55895812,
          4.780479526,
          -22.4278805,
          -4.984411493,
          -45.40297767,
          -41.1815606,
          -22.87515193,
          856.4259486,
          50.64225472,
          -4.442833883,
          -49.6568113,
          -73.59052772,
          140.5676966
         ],
         "yaxis": "y"
        },
        {
         "alignmentgroup": "True",
         "bingroup": "x",
         "histfunc": "sum",
         "hovertemplate": "variable=TradeValue Growth(%)Pre 3<br>HS2=%{x}<br>sum of value=%{y}<extra></extra>",
         "legendgroup": "TradeValue Growth(%)Pre 3",
         "marker": {
          "color": "#00cc96",
          "pattern": {
           "shape": ""
          }
         },
         "name": "TradeValue Growth(%)Pre 3",
         "offsetgroup": "TradeValue Growth(%)Pre 3",
         "orientation": "v",
         "showlegend": true,
         "type": "histogram",
         "x": [
          "Live animals",
          "Live animals",
          "Live animals",
          "Live animals",
          "Meat and edible meat offal",
          "Meat and edible meat offal",
          "Meat and edible meat offal",
          "Meat and edible meat offal",
          "Meat and edible meat offal",
          "Meat and edible meat offal",
          "Meat and edible meat offal",
          "Meat and edible meat offal",
          "Meat and edible meat offal",
          "Fish and crustaceans, molluscs and other aquatic invertebrates",
          "Fish and crustaceans, molluscs and other aquatic invertebrates",
          "Fish and crustaceans, molluscs and other aquatic invertebrates",
          "Fish and crustaceans, molluscs and other aquatic invertebrates",
          "Fish and crustaceans, molluscs and other aquatic invertebrates",
          "Fish and crustaceans, molluscs and other aquatic invertebrates",
          "Fish and crustaceans, molluscs and other aquatic invertebrates",
          "Dairy products and other edible products of animal origin",
          "Dairy products and other edible products of animal origin",
          "Dairy products and other edible products of animal origin",
          "Dairy products and other edible products of animal origin",
          "Dairy products and other edible products of animal origin",
          "Dairy products and other edible products of animal origin",
          "Dairy products and other edible products of animal origin",
          "Dairy products and other edible products of animal origin",
          "Dairy products and other edible products of animal origin",
          "Dairy products and other edible products of animal origin",
          "Animal originated products; not elsewhere specified or included",
          "Animal originated products; not elsewhere specified or included",
          "Animal originated products; not elsewhere specified or included",
          "Animal originated products; not elsewhere specified or included",
          "Animal originated products; not elsewhere specified or included"
         ],
         "xaxis": "x",
         "y": [
          -43.19039426,
          86.28886472,
          8.91140155,
          58.19520897,
          -37.12742549,
          -24.31866145,
          -59.23229361,
          -93.79480167,
          918.761009,
          139.2660782,
          34.15220496,
          21.26109486,
          315.6269506,
          55.30927888,
          25.2114255,
          62.25471706,
          29.85636207,
          -55.67382204,
          -33.91037756,
          117.9566201,
          92.46681849,
          139.0963895,
          145.4344941,
          31.01442337,
          -2.304451583,
          46.45350983,
          -76.65975379,
          -18.93573094,
          -6.482836909,
          332.285904,
          -13.82294852,
          52.06436239,
          -28.11609181,
          100,
          100.2718528
         ],
         "yaxis": "y"
        },
        {
         "alignmentgroup": "True",
         "bingroup": "x",
         "histfunc": "sum",
         "hovertemplate": "variable=TradeValue Growth(%)Pre 5<br>HS2=%{x}<br>sum of value=%{y}<extra></extra>",
         "legendgroup": "TradeValue Growth(%)Pre 5",
         "marker": {
          "color": "#ab63fa",
          "pattern": {
           "shape": ""
          }
         },
         "name": "TradeValue Growth(%)Pre 5",
         "offsetgroup": "TradeValue Growth(%)Pre 5",
         "orientation": "v",
         "showlegend": true,
         "type": "histogram",
         "x": [
          "Live animals",
          "Live animals",
          "Live animals",
          "Live animals",
          "Meat and edible meat offal",
          "Meat and edible meat offal",
          "Meat and edible meat offal",
          "Meat and edible meat offal",
          "Meat and edible meat offal",
          "Meat and edible meat offal",
          "Meat and edible meat offal",
          "Meat and edible meat offal",
          "Meat and edible meat offal",
          "Fish and crustaceans, molluscs and other aquatic invertebrates",
          "Fish and crustaceans, molluscs and other aquatic invertebrates",
          "Fish and crustaceans, molluscs and other aquatic invertebrates",
          "Fish and crustaceans, molluscs and other aquatic invertebrates",
          "Fish and crustaceans, molluscs and other aquatic invertebrates",
          "Fish and crustaceans, molluscs and other aquatic invertebrates",
          "Fish and crustaceans, molluscs and other aquatic invertebrates",
          "Dairy products and other edible products of animal origin",
          "Dairy products and other edible products of animal origin",
          "Dairy products and other edible products of animal origin",
          "Dairy products and other edible products of animal origin",
          "Dairy products and other edible products of animal origin",
          "Dairy products and other edible products of animal origin",
          "Dairy products and other edible products of animal origin",
          "Dairy products and other edible products of animal origin",
          "Dairy products and other edible products of animal origin",
          "Dairy products and other edible products of animal origin",
          "Animal originated products; not elsewhere specified or included",
          "Animal originated products; not elsewhere specified or included",
          "Animal originated products; not elsewhere specified or included",
          "Animal originated products; not elsewhere specified or included",
          "Animal originated products; not elsewhere specified or included"
         ],
         "xaxis": "x",
         "y": [
          -42.08174524,
          24.98964483,
          5.297970833,
          33.3149123,
          971.8355065,
          -42.8582145,
          -64.37605698,
          -97.73499489,
          43.55930219,
          122.3826346,
          -14.1361958,
          49.75605635,
          476.2565756,
          35.39328464,
          29.87924054,
          114.3521038,
          -47.02039975,
          -45.56761025,
          -37.27739999,
          212.2876656,
          53.03673289,
          -71.98602122,
          42.398295,
          -39.29136564,
          -41.48247964,
          14.69237601,
          2466.561232,
          89.76449174,
          -37.85135518,
          56.45898908,
          5.435184202,
          18.97149852,
          87.60226558,
          3560.869565,
          -1.784432366
         ],
         "yaxis": "y"
        }
       ],
       "layout": {
        "barmode": "relative",
        "height": 900,
        "legend": {
         "title": {
          "text": "variable"
         },
         "tracegroupgap": 0
        },
        "template": {
         "data": {
          "bar": [
           {
            "error_x": {
             "color": "#f2f5fa"
            },
            "error_y": {
             "color": "#f2f5fa"
            },
            "marker": {
             "line": {
              "color": "rgb(17,17,17)",
              "width": 0.5
             },
             "pattern": {
              "fillmode": "overlay",
              "size": 10,
              "solidity": 0.2
             }
            },
            "type": "bar"
           }
          ],
          "barpolar": [
           {
            "marker": {
             "line": {
              "color": "rgb(17,17,17)",
              "width": 0.5
             },
             "pattern": {
              "fillmode": "overlay",
              "size": 10,
              "solidity": 0.2
             }
            },
            "type": "barpolar"
           }
          ],
          "carpet": [
           {
            "aaxis": {
             "endlinecolor": "#A2B1C6",
             "gridcolor": "#506784",
             "linecolor": "#506784",
             "minorgridcolor": "#506784",
             "startlinecolor": "#A2B1C6"
            },
            "baxis": {
             "endlinecolor": "#A2B1C6",
             "gridcolor": "#506784",
             "linecolor": "#506784",
             "minorgridcolor": "#506784",
             "startlinecolor": "#A2B1C6"
            },
            "type": "carpet"
           }
          ],
          "choropleth": [
           {
            "colorbar": {
             "outlinewidth": 0,
             "ticks": ""
            },
            "type": "choropleth"
           }
          ],
          "contour": [
           {
            "colorbar": {
             "outlinewidth": 0,
             "ticks": ""
            },
            "colorscale": [
             [
              0,
              "#0d0887"
             ],
             [
              0.1111111111111111,
              "#46039f"
             ],
             [
              0.2222222222222222,
              "#7201a8"
             ],
             [
              0.3333333333333333,
              "#9c179e"
             ],
             [
              0.4444444444444444,
              "#bd3786"
             ],
             [
              0.5555555555555556,
              "#d8576b"
             ],
             [
              0.6666666666666666,
              "#ed7953"
             ],
             [
              0.7777777777777778,
              "#fb9f3a"
             ],
             [
              0.8888888888888888,
              "#fdca26"
             ],
             [
              1,
              "#f0f921"
             ]
            ],
            "type": "contour"
           }
          ],
          "contourcarpet": [
           {
            "colorbar": {
             "outlinewidth": 0,
             "ticks": ""
            },
            "type": "contourcarpet"
           }
          ],
          "heatmap": [
           {
            "colorbar": {
             "outlinewidth": 0,
             "ticks": ""
            },
            "colorscale": [
             [
              0,
              "#0d0887"
             ],
             [
              0.1111111111111111,
              "#46039f"
             ],
             [
              0.2222222222222222,
              "#7201a8"
             ],
             [
              0.3333333333333333,
              "#9c179e"
             ],
             [
              0.4444444444444444,
              "#bd3786"
             ],
             [
              0.5555555555555556,
              "#d8576b"
             ],
             [
              0.6666666666666666,
              "#ed7953"
             ],
             [
              0.7777777777777778,
              "#fb9f3a"
             ],
             [
              0.8888888888888888,
              "#fdca26"
             ],
             [
              1,
              "#f0f921"
             ]
            ],
            "type": "heatmap"
           }
          ],
          "heatmapgl": [
           {
            "colorbar": {
             "outlinewidth": 0,
             "ticks": ""
            },
            "colorscale": [
             [
              0,
              "#0d0887"
             ],
             [
              0.1111111111111111,
              "#46039f"
             ],
             [
              0.2222222222222222,
              "#7201a8"
             ],
             [
              0.3333333333333333,
              "#9c179e"
             ],
             [
              0.4444444444444444,
              "#bd3786"
             ],
             [
              0.5555555555555556,
              "#d8576b"
             ],
             [
              0.6666666666666666,
              "#ed7953"
             ],
             [
              0.7777777777777778,
              "#fb9f3a"
             ],
             [
              0.8888888888888888,
              "#fdca26"
             ],
             [
              1,
              "#f0f921"
             ]
            ],
            "type": "heatmapgl"
           }
          ],
          "histogram": [
           {
            "marker": {
             "pattern": {
              "fillmode": "overlay",
              "size": 10,
              "solidity": 0.2
             }
            },
            "type": "histogram"
           }
          ],
          "histogram2d": [
           {
            "colorbar": {
             "outlinewidth": 0,
             "ticks": ""
            },
            "colorscale": [
             [
              0,
              "#0d0887"
             ],
             [
              0.1111111111111111,
              "#46039f"
             ],
             [
              0.2222222222222222,
              "#7201a8"
             ],
             [
              0.3333333333333333,
              "#9c179e"
             ],
             [
              0.4444444444444444,
              "#bd3786"
             ],
             [
              0.5555555555555556,
              "#d8576b"
             ],
             [
              0.6666666666666666,
              "#ed7953"
             ],
             [
              0.7777777777777778,
              "#fb9f3a"
             ],
             [
              0.8888888888888888,
              "#fdca26"
             ],
             [
              1,
              "#f0f921"
             ]
            ],
            "type": "histogram2d"
           }
          ],
          "histogram2dcontour": [
           {
            "colorbar": {
             "outlinewidth": 0,
             "ticks": ""
            },
            "colorscale": [
             [
              0,
              "#0d0887"
             ],
             [
              0.1111111111111111,
              "#46039f"
             ],
             [
              0.2222222222222222,
              "#7201a8"
             ],
             [
              0.3333333333333333,
              "#9c179e"
             ],
             [
              0.4444444444444444,
              "#bd3786"
             ],
             [
              0.5555555555555556,
              "#d8576b"
             ],
             [
              0.6666666666666666,
              "#ed7953"
             ],
             [
              0.7777777777777778,
              "#fb9f3a"
             ],
             [
              0.8888888888888888,
              "#fdca26"
             ],
             [
              1,
              "#f0f921"
             ]
            ],
            "type": "histogram2dcontour"
           }
          ],
          "mesh3d": [
           {
            "colorbar": {
             "outlinewidth": 0,
             "ticks": ""
            },
            "type": "mesh3d"
           }
          ],
          "parcoords": [
           {
            "line": {
             "colorbar": {
              "outlinewidth": 0,
              "ticks": ""
             }
            },
            "type": "parcoords"
           }
          ],
          "pie": [
           {
            "automargin": true,
            "type": "pie"
           }
          ],
          "scatter": [
           {
            "marker": {
             "line": {
              "color": "#283442"
             }
            },
            "type": "scatter"
           }
          ],
          "scatter3d": [
           {
            "line": {
             "colorbar": {
              "outlinewidth": 0,
              "ticks": ""
             }
            },
            "marker": {
             "colorbar": {
              "outlinewidth": 0,
              "ticks": ""
             }
            },
            "type": "scatter3d"
           }
          ],
          "scattercarpet": [
           {
            "marker": {
             "colorbar": {
              "outlinewidth": 0,
              "ticks": ""
             }
            },
            "type": "scattercarpet"
           }
          ],
          "scattergeo": [
           {
            "marker": {
             "colorbar": {
              "outlinewidth": 0,
              "ticks": ""
             }
            },
            "type": "scattergeo"
           }
          ],
          "scattergl": [
           {
            "marker": {
             "line": {
              "color": "#283442"
             }
            },
            "type": "scattergl"
           }
          ],
          "scattermapbox": [
           {
            "marker": {
             "colorbar": {
              "outlinewidth": 0,
              "ticks": ""
             }
            },
            "type": "scattermapbox"
           }
          ],
          "scatterpolar": [
           {
            "marker": {
             "colorbar": {
              "outlinewidth": 0,
              "ticks": ""
             }
            },
            "type": "scatterpolar"
           }
          ],
          "scatterpolargl": [
           {
            "marker": {
             "colorbar": {
              "outlinewidth": 0,
              "ticks": ""
             }
            },
            "type": "scatterpolargl"
           }
          ],
          "scatterternary": [
           {
            "marker": {
             "colorbar": {
              "outlinewidth": 0,
              "ticks": ""
             }
            },
            "type": "scatterternary"
           }
          ],
          "surface": [
           {
            "colorbar": {
             "outlinewidth": 0,
             "ticks": ""
            },
            "colorscale": [
             [
              0,
              "#0d0887"
             ],
             [
              0.1111111111111111,
              "#46039f"
             ],
             [
              0.2222222222222222,
              "#7201a8"
             ],
             [
              0.3333333333333333,
              "#9c179e"
             ],
             [
              0.4444444444444444,
              "#bd3786"
             ],
             [
              0.5555555555555556,
              "#d8576b"
             ],
             [
              0.6666666666666666,
              "#ed7953"
             ],
             [
              0.7777777777777778,
              "#fb9f3a"
             ],
             [
              0.8888888888888888,
              "#fdca26"
             ],
             [
              1,
              "#f0f921"
             ]
            ],
            "type": "surface"
           }
          ],
          "table": [
           {
            "cells": {
             "fill": {
              "color": "#506784"
             },
             "line": {
              "color": "rgb(17,17,17)"
             }
            },
            "header": {
             "fill": {
              "color": "#2a3f5f"
             },
             "line": {
              "color": "rgb(17,17,17)"
             }
            },
            "type": "table"
           }
          ]
         },
         "layout": {
          "annotationdefaults": {
           "arrowcolor": "#f2f5fa",
           "arrowhead": 0,
           "arrowwidth": 1
          },
          "autotypenumbers": "strict",
          "coloraxis": {
           "colorbar": {
            "outlinewidth": 0,
            "ticks": ""
           }
          },
          "colorscale": {
           "diverging": [
            [
             0,
             "#8e0152"
            ],
            [
             0.1,
             "#c51b7d"
            ],
            [
             0.2,
             "#de77ae"
            ],
            [
             0.3,
             "#f1b6da"
            ],
            [
             0.4,
             "#fde0ef"
            ],
            [
             0.5,
             "#f7f7f7"
            ],
            [
             0.6,
             "#e6f5d0"
            ],
            [
             0.7,
             "#b8e186"
            ],
            [
             0.8,
             "#7fbc41"
            ],
            [
             0.9,
             "#4d9221"
            ],
            [
             1,
             "#276419"
            ]
           ],
           "sequential": [
            [
             0,
             "#0d0887"
            ],
            [
             0.1111111111111111,
             "#46039f"
            ],
            [
             0.2222222222222222,
             "#7201a8"
            ],
            [
             0.3333333333333333,
             "#9c179e"
            ],
            [
             0.4444444444444444,
             "#bd3786"
            ],
            [
             0.5555555555555556,
             "#d8576b"
            ],
            [
             0.6666666666666666,
             "#ed7953"
            ],
            [
             0.7777777777777778,
             "#fb9f3a"
            ],
            [
             0.8888888888888888,
             "#fdca26"
            ],
            [
             1,
             "#f0f921"
            ]
           ],
           "sequentialminus": [
            [
             0,
             "#0d0887"
            ],
            [
             0.1111111111111111,
             "#46039f"
            ],
            [
             0.2222222222222222,
             "#7201a8"
            ],
            [
             0.3333333333333333,
             "#9c179e"
            ],
            [
             0.4444444444444444,
             "#bd3786"
            ],
            [
             0.5555555555555556,
             "#d8576b"
            ],
            [
             0.6666666666666666,
             "#ed7953"
            ],
            [
             0.7777777777777778,
             "#fb9f3a"
            ],
            [
             0.8888888888888888,
             "#fdca26"
            ],
            [
             1,
             "#f0f921"
            ]
           ]
          },
          "colorway": [
           "#636efa",
           "#EF553B",
           "#00cc96",
           "#ab63fa",
           "#FFA15A",
           "#19d3f3",
           "#FF6692",
           "#B6E880",
           "#FF97FF",
           "#FECB52"
          ],
          "font": {
           "color": "#f2f5fa"
          },
          "geo": {
           "bgcolor": "rgb(17,17,17)",
           "lakecolor": "rgb(17,17,17)",
           "landcolor": "rgb(17,17,17)",
           "showlakes": true,
           "showland": true,
           "subunitcolor": "#506784"
          },
          "hoverlabel": {
           "align": "left"
          },
          "hovermode": "closest",
          "mapbox": {
           "style": "dark"
          },
          "paper_bgcolor": "rgb(17,17,17)",
          "plot_bgcolor": "rgb(17,17,17)",
          "polar": {
           "angularaxis": {
            "gridcolor": "#506784",
            "linecolor": "#506784",
            "ticks": ""
           },
           "bgcolor": "rgb(17,17,17)",
           "radialaxis": {
            "gridcolor": "#506784",
            "linecolor": "#506784",
            "ticks": ""
           }
          },
          "scene": {
           "xaxis": {
            "backgroundcolor": "rgb(17,17,17)",
            "gridcolor": "#506784",
            "gridwidth": 2,
            "linecolor": "#506784",
            "showbackground": true,
            "ticks": "",
            "zerolinecolor": "#C8D4E3"
           },
           "yaxis": {
            "backgroundcolor": "rgb(17,17,17)",
            "gridcolor": "#506784",
            "gridwidth": 2,
            "linecolor": "#506784",
            "showbackground": true,
            "ticks": "",
            "zerolinecolor": "#C8D4E3"
           },
           "zaxis": {
            "backgroundcolor": "rgb(17,17,17)",
            "gridcolor": "#506784",
            "gridwidth": 2,
            "linecolor": "#506784",
            "showbackground": true,
            "ticks": "",
            "zerolinecolor": "#C8D4E3"
           }
          },
          "shapedefaults": {
           "line": {
            "color": "#f2f5fa"
           }
          },
          "sliderdefaults": {
           "bgcolor": "#C8D4E3",
           "bordercolor": "rgb(17,17,17)",
           "borderwidth": 1,
           "tickwidth": 0
          },
          "ternary": {
           "aaxis": {
            "gridcolor": "#506784",
            "linecolor": "#506784",
            "ticks": ""
           },
           "baxis": {
            "gridcolor": "#506784",
            "linecolor": "#506784",
            "ticks": ""
           },
           "bgcolor": "rgb(17,17,17)",
           "caxis": {
            "gridcolor": "#506784",
            "linecolor": "#506784",
            "ticks": ""
           }
          },
          "title": {
           "x": 0.05
          },
          "updatemenudefaults": {
           "bgcolor": "#506784",
           "borderwidth": 0
          },
          "xaxis": {
           "automargin": true,
           "gridcolor": "#283442",
           "linecolor": "#506784",
           "ticks": "",
           "title": {
            "standoff": 15
           },
           "zerolinecolor": "#283442",
           "zerolinewidth": 2
          },
          "yaxis": {
           "automargin": true,
           "gridcolor": "#283442",
           "linecolor": "#506784",
           "ticks": "",
           "title": {
            "standoff": 15
           },
           "zerolinecolor": "#283442",
           "zerolinewidth": 2
          }
         }
        },
        "title": {
         "text": "Animal Products"
        },
        "width": 1000,
        "xaxis": {
         "anchor": "y",
         "domain": [
          0,
          1
         ],
         "title": {
          "text": "HS2"
         }
        },
        "yaxis": {
         "anchor": "x",
         "domain": [
          0,
          1
         ],
         "title": {
          "text": "sum of value"
         }
        }
       }
      }
     },
     "metadata": {},
     "output_type": "display_data"
    }
   ],
   "source": [
    "px.histogram(df.head(35), x='HS2' ,y=['Trade Value Growth(%)','TradeValue Growth(%)Pre 1','TradeValue Growth(%)Pre 3','TradeValue Growth(%)Pre 5'],width =1000,  height=900 , template='plotly_dark',title='Animal Products')"
   ]
  },
  {
   "cell_type": "code",
   "execution_count": 35,
   "metadata": {},
   "outputs": [],
   "source": [
    "df1=df[df.Section == 'Animal Products']"
   ]
  },
  {
   "cell_type": "code",
   "execution_count": 37,
   "metadata": {},
   "outputs": [
    {
     "data": {
      "text/html": [
       "<div>\n",
       "<style scoped>\n",
       "    .dataframe tbody tr th:only-of-type {\n",
       "        vertical-align: middle;\n",
       "    }\n",
       "\n",
       "    .dataframe tbody tr th {\n",
       "        vertical-align: top;\n",
       "    }\n",
       "\n",
       "    .dataframe thead th {\n",
       "        text-align: right;\n",
       "    }\n",
       "</style>\n",
       "<table border=\"1\" class=\"dataframe\">\n",
       "  <thead>\n",
       "    <tr style=\"text-align: right;\">\n",
       "      <th></th>\n",
       "      <th>Section ID</th>\n",
       "      <th>Section</th>\n",
       "      <th>HS2 ID</th>\n",
       "      <th>HS2</th>\n",
       "      <th>HS4 ID</th>\n",
       "      <th>HS4</th>\n",
       "      <th>Year</th>\n",
       "      <th>Trade Value</th>\n",
       "      <th>Trade Value Growth(%)</th>\n",
       "      <th>Trade Value Growth Value</th>\n",
       "      <th>Trade Value Previous 1</th>\n",
       "      <th>Trade Value Previous 3</th>\n",
       "      <th>Trade Value Previous 5</th>\n",
       "      <th>TradeValue Growth(%)Pre 1</th>\n",
       "      <th>Trade Value Growth Value 1</th>\n",
       "      <th>TradeValue Growth(%)Pre 3</th>\n",
       "      <th>Trade Value Growth Value 3</th>\n",
       "      <th>TradeValue Growth(%)Pre 5</th>\n",
       "      <th>Trade Value Growth Value 5</th>\n",
       "    </tr>\n",
       "  </thead>\n",
       "  <tbody>\n",
       "    <tr>\n",
       "      <th>0</th>\n",
       "      <td>1</td>\n",
       "      <td>Animal Products</td>\n",
       "      <td>101</td>\n",
       "      <td>Live animals</td>\n",
       "      <td>10101</td>\n",
       "      <td>Horses</td>\n",
       "      <td>2019</td>\n",
       "      <td>4429024</td>\n",
       "      <td>-0.532634</td>\n",
       "      <td>-5047542</td>\n",
       "      <td>9476566</td>\n",
       "      <td>7796259</td>\n",
       "      <td>7647026</td>\n",
       "      <td>-53.263408</td>\n",
       "      <td>-5047542</td>\n",
       "      <td>-43.190394</td>\n",
       "      <td>-3367235</td>\n",
       "      <td>-42.081745</td>\n",
       "      <td>-3218002</td>\n",
       "    </tr>\n",
       "    <tr>\n",
       "      <th>1</th>\n",
       "      <td>1</td>\n",
       "      <td>Animal Products</td>\n",
       "      <td>101</td>\n",
       "      <td>Live animals</td>\n",
       "      <td>10102</td>\n",
       "      <td>Bovine</td>\n",
       "      <td>2019</td>\n",
       "      <td>58239050</td>\n",
       "      <td>-0.005652</td>\n",
       "      <td>-331024</td>\n",
       "      <td>58570074</td>\n",
       "      <td>31262765</td>\n",
       "      <td>46595100</td>\n",
       "      <td>-0.565176</td>\n",
       "      <td>-331024</td>\n",
       "      <td>86.288865</td>\n",
       "      <td>26976285</td>\n",
       "      <td>24.989645</td>\n",
       "      <td>11643950</td>\n",
       "    </tr>\n",
       "    <tr>\n",
       "      <th>2</th>\n",
       "      <td>1</td>\n",
       "      <td>Animal Products</td>\n",
       "      <td>101</td>\n",
       "      <td>Live animals</td>\n",
       "      <td>10105</td>\n",
       "      <td>Poultry</td>\n",
       "      <td>2019</td>\n",
       "      <td>26340339</td>\n",
       "      <td>0.153589</td>\n",
       "      <td>3506951</td>\n",
       "      <td>22833388</td>\n",
       "      <td>24185107</td>\n",
       "      <td>25015049</td>\n",
       "      <td>15.358873</td>\n",
       "      <td>3506951</td>\n",
       "      <td>8.911402</td>\n",
       "      <td>2155232</td>\n",
       "      <td>5.297971</td>\n",
       "      <td>1325290</td>\n",
       "    </tr>\n",
       "    <tr>\n",
       "      <th>3</th>\n",
       "      <td>1</td>\n",
       "      <td>Animal Products</td>\n",
       "      <td>101</td>\n",
       "      <td>Live animals</td>\n",
       "      <td>10106</td>\n",
       "      <td>Other Animals</td>\n",
       "      <td>2019</td>\n",
       "      <td>6923494</td>\n",
       "      <td>-0.094794</td>\n",
       "      <td>-725031</td>\n",
       "      <td>7648525</td>\n",
       "      <td>4376551</td>\n",
       "      <td>5193338</td>\n",
       "      <td>-9.479357</td>\n",
       "      <td>-725031</td>\n",
       "      <td>58.195209</td>\n",
       "      <td>2546943</td>\n",
       "      <td>33.314912</td>\n",
       "      <td>1730156</td>\n",
       "    </tr>\n",
       "    <tr>\n",
       "      <th>4</th>\n",
       "      <td>1</td>\n",
       "      <td>Animal Products</td>\n",
       "      <td>102</td>\n",
       "      <td>Meat and edible meat offal</td>\n",
       "      <td>10201</td>\n",
       "      <td>Bovine Meat</td>\n",
       "      <td>2019</td>\n",
       "      <td>53431</td>\n",
       "      <td>0.438754</td>\n",
       "      <td>16294</td>\n",
       "      <td>37137</td>\n",
       "      <td>84983</td>\n",
       "      <td>4985</td>\n",
       "      <td>43.875380</td>\n",
       "      <td>16294</td>\n",
       "      <td>-37.127425</td>\n",
       "      <td>-31552</td>\n",
       "      <td>971.835506</td>\n",
       "      <td>48446</td>\n",
       "    </tr>\n",
       "  </tbody>\n",
       "</table>\n",
       "</div>"
      ],
      "text/plain": [
       "   Section ID          Section  HS2 ID                         HS2  HS4 ID  \\\n",
       "0           1  Animal Products     101                Live animals   10101   \n",
       "1           1  Animal Products     101                Live animals   10102   \n",
       "2           1  Animal Products     101                Live animals   10105   \n",
       "3           1  Animal Products     101                Live animals   10106   \n",
       "4           1  Animal Products     102  Meat and edible meat offal   10201   \n",
       "\n",
       "             HS4  Year  Trade Value  Trade Value Growth(%)  \\\n",
       "0         Horses  2019      4429024              -0.532634   \n",
       "1         Bovine  2019     58239050              -0.005652   \n",
       "2        Poultry  2019     26340339               0.153589   \n",
       "3  Other Animals  2019      6923494              -0.094794   \n",
       "4    Bovine Meat  2019        53431               0.438754   \n",
       "\n",
       "   Trade Value Growth Value  Trade Value Previous 1  Trade Value Previous 3  \\\n",
       "0                  -5047542                 9476566                 7796259   \n",
       "1                   -331024                58570074                31262765   \n",
       "2                   3506951                22833388                24185107   \n",
       "3                   -725031                 7648525                 4376551   \n",
       "4                     16294                   37137                   84983   \n",
       "\n",
       "   Trade Value Previous 5  TradeValue Growth(%)Pre 1  \\\n",
       "0                 7647026                 -53.263408   \n",
       "1                46595100                  -0.565176   \n",
       "2                25015049                  15.358873   \n",
       "3                 5193338                  -9.479357   \n",
       "4                    4985                  43.875380   \n",
       "\n",
       "   Trade Value Growth Value 1  TradeValue Growth(%)Pre 3  \\\n",
       "0                    -5047542                 -43.190394   \n",
       "1                     -331024                  86.288865   \n",
       "2                     3506951                   8.911402   \n",
       "3                     -725031                  58.195209   \n",
       "4                       16294                 -37.127425   \n",
       "\n",
       "   Trade Value Growth Value 3  TradeValue Growth(%)Pre 5  \\\n",
       "0                    -3367235                 -42.081745   \n",
       "1                    26976285                  24.989645   \n",
       "2                     2155232                   5.297971   \n",
       "3                     2546943                  33.314912   \n",
       "4                      -31552                 971.835506   \n",
       "\n",
       "   Trade Value Growth Value 5  \n",
       "0                    -3218002  \n",
       "1                    11643950  \n",
       "2                     1325290  \n",
       "3                     1730156  \n",
       "4                       48446  "
      ]
     },
     "execution_count": 37,
     "metadata": {},
     "output_type": "execute_result"
    }
   ],
   "source": [
    "df1.head()"
   ]
  },
  {
   "cell_type": "code",
   "execution_count": null,
   "metadata": {},
   "outputs": [],
   "source": []
  },
  {
   "cell_type": "code",
   "execution_count": null,
   "metadata": {},
   "outputs": [],
   "source": []
  }
 ],
 "metadata": {
  "interpreter": {
   "hash": "b345d5f3652e26111964109e8b49cd502e4a6e7463c23633e5a25665bda59fae"
  },
  "kernelspec": {
   "display_name": "Python 3.9.7 64-bit (windows store)",
   "language": "python",
   "name": "python3"
  },
  "language_info": {
   "codemirror_mode": {
    "name": "ipython",
    "version": 3
   },
   "file_extension": ".py",
   "mimetype": "text/x-python",
   "name": "python",
   "nbconvert_exporter": "python",
   "pygments_lexer": "ipython3",
   "version": "3.9.7"
  },
  "orig_nbformat": 4
 },
 "nbformat": 4,
 "nbformat_minor": 2
}
